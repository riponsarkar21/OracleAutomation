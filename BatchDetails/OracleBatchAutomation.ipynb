{
 "cells": [
  {
   "cell_type": "code",
   "execution_count": 1,
   "id": "2cc6171d-2a0a-43df-8bc0-794f9957e5da",
   "metadata": {
    "execution": {
     "iopub.execute_input": "2024-03-13T22:10:39.682806Z",
     "iopub.status.busy": "2024-03-13T22:10:39.682806Z",
     "iopub.status.idle": "2024-03-13T22:11:00.125155Z",
     "shell.execute_reply": "2024-03-13T22:11:00.124158Z"
    }
   },
   "outputs": [
    {
     "name": "stdout",
     "output_type": "stream",
     "text": [
      "Mozilla Firefox is now opening...\n"
     ]
    }
   ],
   "source": [
    "### #Check On Hand Details Report\n",
    "\n",
    "\n",
    "\n",
    "import pyautogui as pg\n",
    "import time\n",
    "import subprocess\n",
    "\n",
    "userName = \"5638\"\n",
    "password = \"ripon\"\n",
    "\n",
    "\n",
    "#Open dedicated Browser\n",
    "\n",
    "firefox_shortcut_path = r\"C:\\ProgramData\\Microsoft\\Windows\\Start Menu\\Programs\\Mozilla Firefox.lnk\"\n",
    "\n",
    "def open_firefox_dedicated_browser(shortcut_path):\n",
    "    try:\n",
    "        subprocess.Popen([shortcut_path], shell=True)\n",
    "        print(\"Mozilla Firefox is now opening...\")\n",
    "    except Exception as e:\n",
    "        print(f\"Error: {e}\")\n",
    "\n",
    "# Example usage:\n",
    "open_firefox_dedicated_browser(firefox_shortcut_path)\n",
    "\n",
    "\n",
    "#Load The webpage\n",
    "time.sleep (8)\n",
    "\n",
    "# Login the website\n",
    "pg.write (userName)\n",
    "pg.press (\"tab\")\n",
    "pg.write (password)\n",
    "pg.press (\"tab\")\n",
    "pg.press (\"enter\")\n",
    "\n",
    "# Wait for the page to load \n",
    "time.sleep(2)\n",
    "\n",
    "# Select the web element for opening oracle software for creating batch\n",
    "pg.press (\"tab\", presses = 14)\n",
    "pg.press (\"enter\")\n",
    "time.sleep (1)\n",
    "pg.press (\"tab\", presses = 3)\n",
    "pg.press (\"enter\")\n",
    "\n",
    "\n",
    "\n",
    "# Wait for the software download \n",
    "time.sleep(8)\n",
    "pg.hotkey (\"alt\",\"i\")\n",
    "pg.press (\"esc\")\n",
    "pg.press (\"enter\")\n",
    "\n"
   ]
  }
 ],
 "metadata": {
  "kernelspec": {
   "display_name": "Python 3 (ipykernel)",
   "language": "python",
   "name": "python3"
  },
  "language_info": {
   "codemirror_mode": {
    "name": "ipython",
    "version": 3
   },
   "file_extension": ".py",
   "mimetype": "text/x-python",
   "name": "python",
   "nbconvert_exporter": "python",
   "pygments_lexer": "ipython3",
   "version": "3.8.18"
  }
 },
 "nbformat": 4,
 "nbformat_minor": 5
}

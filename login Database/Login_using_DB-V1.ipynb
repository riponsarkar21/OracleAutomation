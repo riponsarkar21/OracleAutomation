{
 "cells": [
  {
   "cell_type": "code",
   "execution_count": 3,
   "id": "e30466f7-1943-47fa-bc3f-85b97e4bc290",
   "metadata": {},
   "outputs": [
    {
     "name": "stdout",
     "output_type": "stream",
     "text": [
      "Username already exists. Please choose a different one.\n",
      "Login successful.\n",
      "Invalid username or password.\n"
     ]
    }
   ],
   "source": [
    "import sqlite3\n",
    "import hashlib\n",
    "\n",
    "# Create a connection to the SQLite database\n",
    "conn = sqlite3.connect('user.db')\n",
    "c = conn.cursor()\n",
    "\n",
    "# Create a table to store user information\n",
    "c.execute('''CREATE TABLE IF NOT EXISTS users\n",
    "             (username TEXT PRIMARY KEY, password TEXT)''')\n",
    "\n",
    "# Function to register a new user\n",
    "def register(username, password):\n",
    "    # Check if the username already exists\n",
    "    c.execute(\"SELECT * FROM users WHERE username=?\", (username,))\n",
    "    if c.fetchone():\n",
    "        print(\"Username already exists. Please choose a different one.\")\n",
    "    else:\n",
    "        # Hash the password before storing it\n",
    "        hashed_password = hashlib.sha256(password.encode()).hexdigest()\n",
    "        c.execute(\"INSERT INTO users (username, password) VALUES (?, ?)\", (username, hashed_password))\n",
    "        conn.commit()\n",
    "        print(\"Registration successful.\")\n",
    "\n",
    "# Function to log in a user\n",
    "def login(username, password):\n",
    "    # Hash the provided password\n",
    "    hashed_password = hashlib.sha256(password.encode()).hexdigest()\n",
    "    # Check if the username and password match\n",
    "    c.execute(\"SELECT * FROM users WHERE username=? AND password=?\", (username, hashed_password))\n",
    "    if c.fetchone():\n",
    "        print(\"Login successful.\")\n",
    "    else:\n",
    "        print(\"Invalid username or password.\")\n",
    "\n",
    "# Example usage\n",
    "register(\"user1\", \"password123\")\n",
    "login(\"user1\", \"password123\")  # Should print \"Login successful.\"\n",
    "login(\"user1\", \"wrongpassword\")  # Should print \"Invalid username or password.\"\n",
    "\n",
    "# Close the connection to the database\n",
    "conn.close()\n"
   ]
  },
  {
   "cell_type": "code",
   "execution_count": null,
   "id": "2ae02cb9-b237-415b-98ea-ef5ff5a6bc2d",
   "metadata": {},
   "outputs": [],
   "source": []
  }
 ],
 "metadata": {
  "kernelspec": {
   "display_name": "Python 3 (ipykernel)",
   "language": "python",
   "name": "python3"
  },
  "language_info": {
   "codemirror_mode": {
    "name": "ipython",
    "version": 3
   },
   "file_extension": ".py",
   "mimetype": "text/x-python",
   "name": "python",
   "nbconvert_exporter": "python",
   "pygments_lexer": "ipython3",
   "version": "3.8.18"
  }
 },
 "nbformat": 4,
 "nbformat_minor": 5
}
